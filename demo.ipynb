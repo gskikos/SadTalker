{
  "cells": [
    {
      "cell_type": "code",
      "execution_count": null,
      "metadata": {
        "id": "_5QMHO8lS-kG"
      },
      "outputs": [],
      "source": [
        "!nvidia-smi --query-gpu=name,memory.total,memory.free --format=csv,noheader"
      ]
    },
    {
      "cell_type": "markdown",
      "metadata": {
        "id": "xpP8ZLFgS-kH"
      },
      "source": [
        "Commented out IPython magic to ensure Python compatibility."
      ]
    },
    {
      "cell_type": "code",
      "execution_count": null,
      "metadata": {
        "id": "SQ6Z9F3QS-kH"
      },
      "outputs": [],
      "source": [
        "!update-alternatives --install /usr/local/bin/python3 python3 /usr/bin/python3.8 2\n",
        "!update-alternatives --install /usr/local/bin/python3 python3 /usr/bin/python3.9 1\n",
        "!sudo apt install python3.8"
      ]
    },
    {
      "cell_type": "code",
      "execution_count": null,
      "metadata": {
        "id": "Xoq0TZ4qS-kI"
      },
      "outputs": [],
      "source": [
        "!sudo apt-get install python3.8-distutils"
      ]
    },
    {
      "cell_type": "code",
      "execution_count": null,
      "metadata": {
        "id": "-hWHk9Y5S-kI"
      },
      "outputs": [],
      "source": [
        "!python --version"
      ]
    },
    {
      "cell_type": "code",
      "execution_count": null,
      "metadata": {
        "id": "GBo4PKuHS-kJ"
      },
      "outputs": [],
      "source": [
        "!apt-get update"
      ]
    },
    {
      "cell_type": "code",
      "execution_count": null,
      "metadata": {
        "id": "HTHWde3XS-kK"
      },
      "outputs": [],
      "source": [
        "!apt install software-properties-common"
      ]
    },
    {
      "cell_type": "code",
      "execution_count": null,
      "metadata": {
        "id": "yooFBC-rS-kK"
      },
      "outputs": [],
      "source": [
        "!sudo dpkg --remove --force-remove-reinstreq python3-pip python3-setuptools python3-wheel"
      ]
    },
    {
      "cell_type": "code",
      "execution_count": null,
      "metadata": {
        "id": "INLLMawtS-kL"
      },
      "outputs": [],
      "source": [
        "!apt-get install python3-pip"
      ]
    },
    {
      "cell_type": "code",
      "execution_count": null,
      "metadata": {
        "id": "vynuKecOS-kM"
      },
      "outputs": [],
      "source": [
        "print('Git clone project and install requirements...')\n",
        "!git clone https://github.com/gskikos/SadTalker &> /dev/null\n",
        "# %cd SadTalker\n",
        "!export PYTHONPATH=/content/SadTalker:$PYTHONPATH\n",
        "!python3.8 -m pip install torch==1.12.1+cu113 torchvision==0.13.1+cu113 torchaudio==0.12.1 --extra-index-url https://download.pytorch.org/whl/cu113\n",
        "!apt update\n",
        "!apt install ffmpeg &> /dev/null\n",
        "!python3.8 -m pip install -r requirements.txt"
      ]
    },
    {
      "cell_type": "markdown",
      "metadata": {
        "id": "SGNUlgKMS-kM"
      },
      "source": [
        "\n",
        "Download models (1 mins)\n",
        "<br>\n",
        "print('Download pre-trained models...')<br>\n",
        "!rm -rf checkpoints<br>\n",
        "!bash scripts/download_models.sh<br>\n",
        "# borrow from makeittalk<br>\n",
        "import ipywidgets as widgets<br>\n",
        "import glob<br>\n",
        "import matplotlib.pyplot as plt<br>\n",
        "print(\"Choose the image name to animate: (saved in folder 'examples/')\")<br>\n",
        "img_list = glob.glob1('examples/source_image', '*.png')<br>\n",
        "img_list.sort()<br>\n",
        "img_list = [item.split('.')[0] for item in img_list]<br>\n",
        "default_head_name = widgets.Dropdown(options=img_list, value='full3')<br>\n",
        "def on_change(change):<br>\n",
        "    if change['type'] == 'change' and change['name'] == 'value':<br>\n",
        "        plt.imshow(plt.imread('examples/source_image/{}.png'.format(default_head_name.value)))<br>\n",
        "        plt.axis('off')<br>\n",
        "        plt.show()<br>\n",
        "default_head_name.observe(on_change)<br>\n",
        "display(default_head_name)<br>\n",
        "plt.imshow(plt.imread('examples/source_image/{}.png'.format(default_head_name.value)))<br>\n",
        "plt.axis('off')<br>\n",
        "plt.show()<br>\n",
        "nimation\n"
      ]
    },
    {
      "cell_type": "markdown",
      "metadata": {
        "id": "csRn0k9dS-kN"
      },
      "source": [
        "selected audio from exmaple/driven_audio"
      ]
    },
    {
      "cell_type": "code",
      "execution_count": null,
      "metadata": {
        "id": "XrXb7c8FS-kO"
      },
      "outputs": [],
      "source": [
        "img = 'examples/source_image/{}.png'.format(default_head_name.value)\n",
        "print(img)\n",
        "!python3.8 inference.py --driven_audio ./examples/driven_audio/RD_Radio31_000.wav \\\n",
        "           --source_image {img} \\\n",
        "           --result_dir ./results --still --preprocess full --enhancer gfpgan"
      ]
    },
    {
      "cell_type": "markdown",
      "metadata": {
        "id": "0AjvXTfPS-kO"
      },
      "source": [
        "visualize code from makeittalk"
      ]
    },
    {
      "cell_type": "code",
      "execution_count": null,
      "metadata": {
        "id": "f7EwOoZwS-kO"
      },
      "outputs": [],
      "source": [
        "from IPython.display import HTML\n",
        "from base64 import b64encode\n",
        "import os, sys"
      ]
    },
    {
      "cell_type": "markdown",
      "metadata": {
        "id": "JRDGZpRJS-kO"
      },
      "source": [
        "get the last from results"
      ]
    },
    {
      "cell_type": "code",
      "execution_count": null,
      "metadata": {
        "id": "ccpuGUwpS-kP"
      },
      "outputs": [],
      "source": [
        "results = sorted(os.listdir('./results/'))"
      ]
    },
    {
      "cell_type": "code",
      "execution_count": null,
      "metadata": {
        "id": "OtJt2PUbS-kP"
      },
      "outputs": [],
      "source": [
        "mp4_name = glob.glob('./results/*.mp4')[0]"
      ]
    },
    {
      "cell_type": "code",
      "execution_count": null,
      "metadata": {
        "id": "DvXo7CwUS-kP"
      },
      "outputs": [],
      "source": [
        "mp4 = open('{}'.format(mp4_name),'rb').read()\n",
        "data_url = \"data:video/mp4;base64,\" + b64encode(mp4).decode()"
      ]
    },
    {
      "cell_type": "code",
      "execution_count": null,
      "metadata": {
        "id": "sCeq6MquS-kP"
      },
      "outputs": [],
      "source": [
        "print('Display animation: {}'.format(mp4_name), file=sys.stderr)\n",
        "display(HTML(\"\"\"\n",
        "  <video width=256 controls>\n",
        "        <source src=\"%s\" type=\"video/mp4\">\n",
        "  </video>\n",
        "  \"\"\" % data_url))"
      ]
    }
  ],
  "metadata": {
    "kernelspec": {
      "display_name": "Python 3",
      "language": "python",
      "name": "python3"
    },
    "language_info": {
      "codemirror_mode": {
        "name": "ipython",
        "version": 3
      },
      "file_extension": ".py",
      "mimetype": "text/x-python",
      "name": "python",
      "nbconvert_exporter": "python",
      "pygments_lexer": "ipython3",
      "version": "3.6.4"
    },
    "colab": {
      "provenance": []
    }
  },
  "nbformat": 4,
  "nbformat_minor": 0
}